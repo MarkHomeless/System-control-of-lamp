{
 "cells": [
  {
   "cell_type": "code",
   "execution_count": null,
   "metadata": {},
   "outputs": [],
   "source": [
    "import paho.mqtt.client as mqtt\n",
    "import time\n",
    "def on_connect ( clinet, userdata, flags, rc):\n",
    "    client.subscribe(\"flowertest\")\n",
    "def on_message ( client, userdata, msg):\n",
    "    print( str(msg.payload))\n",
    "\n",
    "client = mqtt.Client()\n",
    "client.on_connect = on_connect\n",
    "client.on_message = on_message\n",
    "\n",
    "\n",
    "client.username_pw_set(\"njelhmbg\",\"FLLRBnPB4UiD\")\n",
    "client.connect(\"hairdresser.cloudmqtt.com\", 16008,60)\n",
    "\n",
    "client.loop_forever()\n"
   ]
  }
 ],
 "metadata": {
  "kernelspec": {
   "display_name": "Python 3",
   "language": "python",
   "name": "python3"
  },
  "language_info": {
   "codemirror_mode": {
    "name": "ipython",
    "version": 3
   },
   "file_extension": ".py",
   "mimetype": "text/x-python",
   "name": "python",
   "nbconvert_exporter": "python",
   "pygments_lexer": "ipython3",
   "version": "3.7.4"
  }
 },
 "nbformat": 4,
 "nbformat_minor": 2
}
